{
 "cells": [
  {
   "cell_type": "code",
   "execution_count": 262,
   "metadata": {},
   "outputs": [
    {
     "name": "stdout",
     "output_type": "stream",
     "text": [
      "[[IMPORT OK]]\n"
     ]
    }
   ],
   "source": [
    "## gurobi\n",
    "import numpy as np\n",
    "from scipy import stats\n",
    "import pandas as pd\n",
    "from scipy.stats import t, sem\n",
    "\n",
    "from IPython.core.interactiveshell import InteractiveShell\n",
    "InteractiveShell.ast_node_interactivity = \"all\"\n",
    "from IPython.display import display\n",
    "\n",
    "import gurobipy as gp\n",
    "from gurobipy import GRB\n",
    "\n",
    "import scipy.sparse as sp\n",
    "from arch import arch_model\n",
    "\n",
    "import datetime\n",
    "from datetime import timedelta\n",
    "\n",
    "%matplotlib inline\n",
    "import matplotlib.pyplot as plt\n",
    "\n",
    "from prettytable import PrettyTable\n",
    "\n",
    "\n",
    "from sympy import *\n",
    "\n",
    "import math\n",
    "from itertools import combinations,product\n",
    "\n",
    "from IPython.display import clear_output\n",
    "\n",
    "pd.set_option('display.max_columns', None)\n",
    "pd.set_option(\"max_rows\", 500)\n",
    "\n",
    "print(\"[[IMPORT OK]]\")"
   ]
  },
  {
   "cell_type": "code",
   "execution_count": 263,
   "metadata": {},
   "outputs": [],
   "source": [
    "# CRE Hotel Design MINLP Optimization\n",
    "# Define Scalars here\n",
    "# Author: Vishal Arya\n",
    "# GMU Dept Applied Math Oper Research Graduate Student\n",
    "\n",
    "Budget = 122000000\n",
    "Debt = .70\n",
    "IntRate = .10 \n",
    "Perdiemint = int((Budget * Debt * IntRate )/365)\n",
    "bldgsqft = 100000 \n",
    "Amsqft = 8000 \n",
    "Restperhead = 65 \n",
    "Mtgperhead = 20 \n",
    "mp1 = 350 #mean\n",
    "mp2 = 400\n",
    "mp3 = 450\n",
    "fixcostpercentrev = .30 \n",
    "mq1 = 35000 #mean\n",
    "mq2 = 35000\n",
    "mq3 = 35000\n",
    "Anncostperroom = 80000\n",
    "restreq = 1 #min\n",
    "mtgroomreq = 6 #max"
   ]
  },
  {
   "cell_type": "code",
   "execution_count": 264,
   "metadata": {},
   "outputs": [],
   "source": [
    "#scalar dicitionaries\n",
    "\n",
    "sqft = dict() #sq ft\n",
    "\n",
    "sqft['single'] = 400\n",
    "sqft['double'] = 500\n",
    "sqft['suite'] = 600\n",
    "sqft['restaurant'] = 2000\n",
    "sqft['meeting'] = 500\n",
    "\n",
    "mcost = dict() #cost per $\n",
    "\n",
    "mcost['single'] = 500000\n",
    "mcost['double'] = 625000\n",
    "mcost['suite'] = 750000\n",
    "mcost['restaurant'] = 1000000\n",
    "mcost['meeting'] = 300000\n",
    "\n",
    "tcost = dict() # time cost (per diem interest rate cost to build asset)\n",
    "\n",
    "tcost['single'] = 1\n",
    "tcost['double'] = 1.5\n",
    "tcost['suite'] = 2\n",
    "tcost['restaurant'] = 60\n",
    "tcost['meeting'] = 10"
   ]
  },
  {
   "cell_type": "code",
   "execution_count": 265,
   "metadata": {},
   "outputs": [],
   "source": [
    "#linear tangent approximation of price curve points defined here \n",
    "\n",
    "p1q, p1z, p2q, p2z, p3q, p3z, p4q, p4z, p5q, p5z, p6q, p6z = 1.5, -.5, 1.15, -.2, 1.07, 0, 1, .1, .93, .20, 0,.5\n"
   ]
  },
  {
   "cell_type": "code",
   "execution_count": 266,
   "metadata": {},
   "outputs": [
    {
     "name": "stdout",
     "output_type": "stream",
     "text": [
      "Changed value of parameter InfUnbdInfo to 1\n",
      "   Prev: 0  Min: 0  Max: 1  Default: 0\n",
      "Changed value of parameter NonConvex to 2\n",
      "   Prev: -1  Min: -1  Max: 2  Default: -1\n"
     ]
    }
   ],
   "source": [
    "#Define MINLP here\n",
    "\n",
    "m = gp.Model(\"hoteldesign\")\n",
    "\n",
    "#price per room type\n",
    "psingle = m.addVar(name=\"psingle\", vtype=GRB.CONTINUOUS)\n",
    "pdouble = m.addVar(name=\"pdouble\", vtype=GRB.CONTINUOUS)\n",
    "psuite = m.addVar(name=\"psuite\", vtype=GRB.CONTINUOUS)\n",
    "\n",
    "#qty build per room type\n",
    "qbsingle = m.addVar(name=\"qbsingle\", vtype=GRB.INTEGER)\n",
    "qbdouble = m.addVar(name=\"qbdouble\", vtype=GRB.INTEGER)\n",
    "qbsuite = m.addVar(name=\"qbsuite\", vtype=GRB.INTEGER)\n",
    "qbrest = m.addVar(name=\"qbrest\", vtype=GRB.INTEGER)\n",
    "qbmtg = m.addVar(name=\"qbmtg\", vtype=GRB.INTEGER)\n",
    "\n",
    "#qty occ per room type\n",
    "qtoccsingle = m.addVar(name=\"qtoccsingle\", vtype=GRB.INTEGER)\n",
    "qtoccdouble = m.addVar(name=\"qtoccdouble\", vtype=GRB.INTEGER)\n",
    "qtoccsuite = m.addVar(name=\"qtoccsuite\", vtype=GRB.INTEGER)\n",
    "\n",
    "#number days to build per room type\n",
    "dayssingle = m.addVar(name=\"dayssingle\", vtype=GRB.INTEGER)\n",
    "daysdouble = m.addVar(name=\"daysdouble\", vtype=GRB.INTEGER)\n",
    "dayssuite = m.addVar(name=\"dayssuite\", vtype=GRB.INTEGER)\n",
    "daysrest = m.addVar(name=\"daysrest\", vtype=GRB.INTEGER)\n",
    "daysmtg = m.addVar(name=\"daysmtg\", vtype=GRB.INTEGER)\n",
    "\n",
    "\n",
    "pcurvesingle = m.addVars(['P1z1','P1z2','P1z3','P1z4','P1z5','P1z6'], vtype=GRB.CONTINUOUS, name=['P1z1','P1z2','P1z3','P1z4','P1z5','P1z6'])\n",
    "pcurvesinglebin = m.addVars(['P1y1','P1y2','P1y3','P1y4','P1y5'], vtype=GRB.BINARY, name=['P1y1','P1y2','P1y3','P1y4','P1y5'])\n",
    "\n",
    "pcurvedouble = m.addVars(['P2z1','P2z2','P2z3','P2z4','P2z5','P2z6'], vtype=GRB.CONTINUOUS, name=['P2z1','P2z2','P2z3','P2z4','P2z5','P2z6'])\n",
    "pcurvedoublebin = m.addVars(['P2y1','P2y2','P2y3','P2y4','P2y5'], vtype=GRB.BINARY, name=['P2y1','P2y2','P2y3','P2y4','P2y5'])\n",
    "\n",
    "pcurvesuite = m.addVars(['P3z1','P3z2','P3z3','P3z4','P3z5','P3z6'], vtype=GRB.CONTINUOUS,name=['P3z1','P3z2','P3z3','P3z4','P3z5','P3z6'])\n",
    "pcurvesuitebin = m.addVars(['P3y1','P3y2','P3y3','P3y4','P3y5'], vtype=GRB.BINARY, name=['P3y1','P3y2','P3y3','P3y4','P3y5'])\n",
    "\n",
    "#set model params\n",
    "m.Params.InfUnbdInfo = 1 #look for extreme rays\n",
    "m.Params.NonConvex = 2 #non-convex optimization (objective function, nonlinear)\n",
    "\n",
    "m.update()\n",
    "\n"
   ]
  },
  {
   "cell_type": "code",
   "execution_count": 267,
   "metadata": {},
   "outputs": [],
   "source": [
    "#set objective function\n",
    "\n",
    "c1 = gp.LinExpr()\n",
    "\n",
    "c1 += mp1*(1+psingle)*qtoccsingle + mp2*(1+pdouble)*qtoccdouble + mp3*(1+psuite)*qtoccsuite + Restperhead*(qtoccsingle+qtoccdouble+qtoccsuite)*qbrest \\\n",
    "+ Mtgperhead*(qtoccsingle+qtoccdouble+qtoccsuite)*qbmtg #gross revenue\n",
    "\n",
    "c1 += - Anncostperroom*(qbsingle + qbdouble + qbsuite) - fixcostpercentrev*(mp1*(1+psingle)*qtoccsingle + mp2*(1+pdouble)*qtoccdouble + mp3*(1+psuite)*qtoccsuite)\n",
    "\n",
    "\n",
    "#set Objective\n",
    "m.setObjective(c1, GRB.MAXIMIZE)"
   ]
  },
  {
   "cell_type": "code",
   "execution_count": 268,
   "metadata": {},
   "outputs": [],
   "source": [
    "#define constraints\n",
    "\n",
    "#sq ft constraint rooms\n",
    "\n",
    "m.addConstr(sqft['single']*qbsingle + sqft['double']*qbdouble + sqft['suite']*qbsuite <= bldgsqft, name='sqftrooms')\n",
    "\n",
    "#sq ft amenities constraint\n",
    "\n",
    "m.addConstr(sqft['restaurant']*qbrest + sqft['meeting']*qbmtg <= Amsqft, name='sqftamenities')\n",
    "\n",
    "#cost constraint\n",
    "\n",
    "m.addConstr(mcost['single']*qbsingle + mcost['double']*qbdouble + mcost['suite']*qbsuite + mcost['restaurant']*qbrest+mcost['meeting']*qbmtg \\\n",
    "+ Perdiemint*(dayssingle+daysdouble + dayssuite + daysrest + daysmtg) <= Budget, name='budget')\n",
    "\n",
    "#qty constraints\n",
    "\n",
    "m.addConstr(qtoccsingle <= 365*qbsingle)\n",
    "m.addConstr(qtoccdouble <= 365*qbdouble)\n",
    "m.addConstr(qtoccsuite <= 365*qbsuite)\n",
    "\n",
    "#linear extrapolation single price curve\n",
    "m.addConstr(pcurvesingle['P1z1'] <= pcurvesinglebin['P1y1'])\n",
    "m.addConstr(pcurvesingle['P1z2'] <= pcurvesinglebin['P1y1'] + pcurvesinglebin['P1y2'])\n",
    "m.addConstr(pcurvesingle['P1z3'] <= pcurvesinglebin['P1y2'] + pcurvesinglebin['P1y3'])\n",
    "m.addConstr(pcurvesingle['P1z4'] <= pcurvesinglebin['P1y3'] + pcurvesinglebin['P1y4'])\n",
    "m.addConstr(pcurvesingle['P1z5'] <= pcurvesinglebin['P1y4'] + pcurvesinglebin['P1y5'])\n",
    "m.addConstr(pcurvesingle['P1z6'] <= pcurvesinglebin['P1y5'])\n",
    "\n",
    "#linear extrapolation dble price curve\n",
    "m.addConstr(pcurvedouble['P2z1'] <= pcurvedoublebin['P2y1'])\n",
    "m.addConstr(pcurvedouble['P2z2'] <= pcurvedoublebin['P2y1'] + pcurvedoublebin['P2y2'])\n",
    "m.addConstr(pcurvedouble['P2z3'] <= pcurvedoublebin['P2y2'] + pcurvedoublebin['P2y3'])\n",
    "m.addConstr(pcurvedouble['P2z4'] <= pcurvedoublebin['P2y3'] + pcurvedoublebin['P2y4'])\n",
    "m.addConstr(pcurvedouble['P2z5'] <= pcurvedoublebin['P2y4'] + pcurvedoublebin['P2y5'])\n",
    "m.addConstr(pcurvedouble['P2z6'] <= pcurvedoublebin['P2y5'])\n",
    "\n",
    "#linear extrapolation suite price curve\n",
    "m.addConstr(pcurvesuite['P3z1'] <= pcurvesuitebin['P3y1'])\n",
    "m.addConstr(pcurvesuite['P3z2'] <= pcurvesuitebin['P3y1'] + pcurvesuitebin['P3y2'])\n",
    "m.addConstr(pcurvesuite['P3z3'] <= pcurvesuitebin['P3y2'] + pcurvesuitebin['P3y3'])\n",
    "m.addConstr(pcurvesuite['P3z4'] <= pcurvesuitebin['P3y3'] + pcurvesuitebin['P3y4'])\n",
    "m.addConstr(pcurvesuite['P3z5'] <= pcurvesuitebin['P3y4'] + pcurvesuitebin['P3y5'])\n",
    "m.addConstr(pcurvesuite['P3z6'] <= pcurvesuitebin['P3y5'])\n",
    "\n",
    "clear_output()\n",
    "\n",
    "#days build constraints\n",
    "m.addConstr(tcost['single']*qbsingle == dayssingle)\n",
    "m.addConstr(tcost['double']*qbdouble == daysdouble)\n",
    "m.addConstr(tcost['suite']*qbsuite == dayssuite)\n",
    "m.addConstr(tcost['restaurant']*qbrest == daysrest)\n",
    "m.addConstr(tcost['meeting']*qbmtg == daysmtg)\n",
    "\n",
    "#set qty curve constraint - single\n",
    "m.addConstr(qtoccsingle == (p1q*pcurvesingle['P1z1'] + p2q*pcurvesingle['P1z2']+p3q*pcurvesingle['P1z3'] + \\\n",
    "                            p4q*pcurvesingle['P1z4']+p5q*pcurvesingle['P1z5']+p6q*pcurvesingle['P1z6'])*mq1)\n",
    "\n",
    "m.addConstr(psingle == p1z*pcurvesingle['P1z1'] + p2z*pcurvesingle['P1z2']+p3z*pcurvesingle['P1z3'] + \\\n",
    "                            p4z*pcurvesingle['P1z4']+p5z*pcurvesingle['P1z5']+p6z*pcurvesingle['P1z6'])\n",
    "\n",
    "m.addConstr(sum(pcurvesingle[i] for i in pcurvesingle.keys()) == 1)\n",
    "\n",
    "\n",
    "#set qty curve constraint - double\n",
    "m.addConstr(qtoccdouble == (p1q*pcurvedouble['P2z1'] + p2q*pcurvedouble['P2z2']+p3q*pcurvedouble['P2z3'] + \\\n",
    "                            p4q*pcurvedouble['P2z4']+p5q*pcurvedouble['P2z5']+p6q*pcurvedouble['P2z6'])*mq2)\n",
    "\n",
    "m.addConstr(pdouble == p1z*pcurvedouble['P2z1'] + p2z*pcurvedouble['P2z2']+p3z*pcurvedouble['P2z3'] + \\\n",
    "                            p4z*pcurvedouble['P2z4']+p5z*pcurvedouble['P2z5']+p6z*pcurvedouble['P2z6'])\n",
    "\n",
    "m.addConstr(sum(pcurvedouble[i] for i in pcurvedouble.keys()) == 1)\n",
    "\n",
    "\n",
    "#set qty curve constraint - suite\n",
    "m.addConstr(qtoccsuite == (p1q*pcurvesuite['P3z1'] + p2q*pcurvesuite['P3z2']+p3q*pcurvesuite['P3z3'] + \\\n",
    "                            p4q*pcurvesuite['P3z4']+p5q*pcurvesuite['P3z5']+p6q*pcurvesuite['P3z6'])*mq3)\n",
    "\n",
    "m.addConstr(psuite == p1z*pcurvesuite['P3z1'] + p2z*pcurvesuite['P3z2']+p3z*pcurvesuite['P3z3'] + \\\n",
    "                            p4z*pcurvesuite['P3z4']+p5z*pcurvesuite['P3z5']+p6z*pcurvesuite['P3z6'])\n",
    "\n",
    "m.addConstr(sum(pcurvesuite[i] for i in pcurvesuite.keys()) == 1)\n",
    "\n",
    "\n",
    "#rest/mtg rm build constraints\n",
    "\n",
    "m.addConstr(qbrest >= restreq)\n",
    "m.addConstr(qbmtg <= mtgroomreq)\n",
    "\n",
    "#\n",
    "m.update()\n",
    "clear_output()\n"
   ]
  },
  {
   "cell_type": "code",
   "execution_count": 269,
   "metadata": {},
   "outputs": [
    {
     "name": "stdout",
     "output_type": "stream",
     "text": [
      "Gurobi Optimizer version 9.1.0 build v9.1.0rc0 (linux64)\n",
      "Thread count: 6 physical cores, 12 logical processors, using up to 12 threads\n",
      "Optimize a model with 40 rows, 49 columns and 135 nonzeros\n",
      "Model fingerprint: 0x345f78ac\n",
      "Model has 9 quadratic objective terms\n",
      "Variable types: 21 continuous, 28 integer (15 binary)\n",
      "Coefficient statistics:\n",
      "  Matrix range     [1e-01, 1e+06]\n",
      "  Objective range  [2e+02, 8e+04]\n",
      "  QObjective range [4e+01, 6e+02]\n",
      "  Bounds range     [1e+00, 1e+00]\n",
      "  RHS range        [1e+00, 1e+08]\n",
      "Presolve removed 26 rows and 20 columns\n",
      "Presolve time: 0.00s\n",
      "Presolved: 33 rows, 39 columns, 116 nonzeros\n",
      "Presolved model has 9 bilinear constraint(s)\n",
      "Variable types: 25 continuous, 14 integer (0 binary)\n",
      "\n",
      "Root relaxation: objective 3.765570e+07, 26 iterations, 0.00 seconds\n",
      "\n",
      "    Nodes    |    Current Node    |     Objective Bounds      |     Work\n",
      " Expl Unexpl |  Obj  Depth IntInf | Incumbent    BestBd   Gap | It/Node Time\n",
      "\n",
      "     0     0 3.7656e+07    0   23          - 3.7656e+07      -     -    0s\n",
      "     0     0 3.1561e+07    0   23          - 3.1561e+07      -     -    0s\n",
      "     0     0 3.1554e+07    0   17          - 3.1554e+07      -     -    0s\n",
      "     0     0 3.1554e+07    0   17          - 3.1554e+07      -     -    0s\n",
      "H    0     0                    2.124559e+07 3.1554e+07  48.5%     -    0s\n",
      "     0     2 3.1554e+07    0   17 2.1246e+07 3.1554e+07  48.5%     -    0s\n",
      "H    3     8                    2.125259e+07 3.0900e+07  45.4%   1.7    0s\n",
      "H   20    26                    2.511339e+07 3.0374e+07  20.9%   3.4    0s\n",
      "H   21    26                    2.591551e+07 3.0374e+07  17.2%   3.3    0s\n",
      "*   56    34               6    2.641989e+07 2.9658e+07  12.3%   2.7    0s\n",
      "H   71    44                    2.649431e+07 2.9642e+07  11.9%   2.7    0s\n",
      "H  147    56                    2.654005e+07 2.9642e+07  11.7%   3.1    0s\n",
      "*  184    59              14    2.655102e+07 2.9642e+07  11.6%   3.1    0s\n",
      "*  221    67              15    2.655348e+07 2.9642e+07  11.6%   3.1    0s\n",
      "* 1396    91              18    2.655520e+07 2.8139e+07  5.97%   3.5    0s\n",
      "\n",
      "Cutting planes:\n",
      "  Gomory: 2\n",
      "  MIR: 2\n",
      "  RLT: 9\n",
      "\n",
      "Explored 2147 nodes (7662 simplex iterations) in 0.09 seconds\n",
      "Thread count was 12 (of 12 available processors)\n",
      "\n",
      "Solution count 10: 2.65552e+07 2.65535e+07 2.6551e+07 ... 2.12456e+07\n",
      "\n",
      "Optimal solution found (tolerance 1.00e-04)\n",
      "Best objective 2.655519754839e+07, best bound 2.655519754839e+07, gap 0.0000%\n"
     ]
    }
   ],
   "source": [
    "#call optimization\n",
    "\n",
    "m.optimize()"
   ]
  },
  {
   "cell_type": "code",
   "execution_count": 270,
   "metadata": {},
   "outputs": [
    {
     "data": {
      "text/plain": [
       "26555197.5483871"
      ]
     },
     "execution_count": 270,
     "metadata": {},
     "output_type": "execute_result"
    }
   ],
   "source": [
    "m.ObjVal"
   ]
  },
  {
   "cell_type": "code",
   "execution_count": 271,
   "metadata": {},
   "outputs": [
    {
     "data": {
      "text/plain": [
       "[<gurobi.Var psingle (value 0.23760368663594472)>,\n",
       " <gurobi.Var pdouble (value 0.30488479262672813)>,\n",
       " <gurobi.Var psuite (value 0.3587096774193548)>,\n",
       " <gurobi.Var qbsingle (value 78.0)>,\n",
       " <gurobi.Var qbdouble (value 58.0)>,\n",
       " <gurobi.Var qbsuite (value 42.0)>,\n",
       " <gurobi.Var qbrest (value 3.0)>,\n",
       " <gurobi.Var qbmtg (value 4.0)>,\n",
       " <gurobi.Var qtoccsingle (value 28470.0)>,\n",
       " <gurobi.Var qtoccdouble (value 21170.0)>,\n",
       " <gurobi.Var qtoccsuite (value 15330.0)>,\n",
       " <gurobi.Var dayssingle (value 78.0)>,\n",
       " <gurobi.Var daysdouble (value 87.0)>,\n",
       " <gurobi.Var dayssuite (value 84.0)>,\n",
       " <gurobi.Var daysrest (value 180.0)>,\n",
       " <gurobi.Var daysmtg (value 40.0)>,\n",
       " <gurobi.Var P1z1 (value 0.0)>,\n",
       " <gurobi.Var P1z2 (value 0.0)>,\n",
       " <gurobi.Var P1z3 (value 0.0)>,\n",
       " <gurobi.Var P1z4 (value 0.0)>,\n",
       " <gurobi.Var P1z5 (value 0.8746543778801843)>,\n",
       " <gurobi.Var P1z6 (value 0.1253456221198157)>,\n",
       " <gurobi.Var P1y1 (value 1.0)>,\n",
       " <gurobi.Var P1y2 (value 1.0)>,\n",
       " <gurobi.Var P1y3 (value 1.0)>,\n",
       " <gurobi.Var P1y4 (value 1.0)>,\n",
       " <gurobi.Var P1y5 (value 1.0)>,\n",
       " <gurobi.Var P2z1 (value 0.0)>,\n",
       " <gurobi.Var P2z2 (value 0.0)>,\n",
       " <gurobi.Var P2z3 (value 0.0)>,\n",
       " <gurobi.Var P2z4 (value 0.0)>,\n",
       " <gurobi.Var P2z5 (value 0.6503840245775729)>,\n",
       " <gurobi.Var P2z6 (value 0.34961597542242706)>,\n",
       " <gurobi.Var P2y1 (value 1.0)>,\n",
       " <gurobi.Var P2y2 (value 1.0)>,\n",
       " <gurobi.Var P2y3 (value 1.0)>,\n",
       " <gurobi.Var P2y4 (value 1.0)>,\n",
       " <gurobi.Var P2y5 (value 1.0)>,\n",
       " <gurobi.Var P3z1 (value 0.0)>,\n",
       " <gurobi.Var P3z2 (value 0.0)>,\n",
       " <gurobi.Var P3z3 (value 0.0)>,\n",
       " <gurobi.Var P3z4 (value 0.0)>,\n",
       " <gurobi.Var P3z5 (value 0.47096774193548396)>,\n",
       " <gurobi.Var P3z6 (value 0.529032258064516)>,\n",
       " <gurobi.Var P3y1 (value 1.0)>,\n",
       " <gurobi.Var P3y2 (value 1.0)>,\n",
       " <gurobi.Var P3y3 (value 1.0)>,\n",
       " <gurobi.Var P3y4 (value 1.0)>,\n",
       " <gurobi.Var P3y5 (value 1.0)>]"
      ]
     },
     "execution_count": 271,
     "metadata": {},
     "output_type": "execute_result"
    }
   ],
   "source": [
    "m.getVars() #get vars\n"
   ]
  },
  {
   "cell_type": "code",
   "execution_count": 272,
   "metadata": {},
   "outputs": [
    {
     "data": {
      "text/plain": [
       "('sqftrooms', 14600.0, 100000.0)"
      ]
     },
     "execution_count": 272,
     "metadata": {},
     "output_type": "execute_result"
    },
    {
     "data": {
      "text/plain": [
       "('sqftamenities', 0.0, 8000.0)"
      ]
     },
     "execution_count": 272,
     "metadata": {},
     "output_type": "execute_result"
    },
    {
     "data": {
      "text/plain": [
       "('budget', 76807.0, 122000000.0)"
      ]
     },
     "execution_count": 272,
     "metadata": {},
     "output_type": "execute_result"
    },
    {
     "data": {
      "text/plain": [
       "('R3', 0.0, 0.0)"
      ]
     },
     "execution_count": 272,
     "metadata": {},
     "output_type": "execute_result"
    },
    {
     "data": {
      "text/plain": [
       "('R4', 0.0, 0.0)"
      ]
     },
     "execution_count": 272,
     "metadata": {},
     "output_type": "execute_result"
    },
    {
     "data": {
      "text/plain": [
       "('R5', 0.0, 0.0)"
      ]
     },
     "execution_count": 272,
     "metadata": {},
     "output_type": "execute_result"
    },
    {
     "data": {
      "text/plain": [
       "('R6', 1.0, 0.0)"
      ]
     },
     "execution_count": 272,
     "metadata": {},
     "output_type": "execute_result"
    },
    {
     "data": {
      "text/plain": [
       "('R7', 2.0, 0.0)"
      ]
     },
     "execution_count": 272,
     "metadata": {},
     "output_type": "execute_result"
    },
    {
     "data": {
      "text/plain": [
       "('R8', 2.0, 0.0)"
      ]
     },
     "execution_count": 272,
     "metadata": {},
     "output_type": "execute_result"
    },
    {
     "data": {
      "text/plain": [
       "('R9', 2.0, 0.0)"
      ]
     },
     "execution_count": 272,
     "metadata": {},
     "output_type": "execute_result"
    },
    {
     "data": {
      "text/plain": [
       "('R10', 1.1253456221198157, 0.0)"
      ]
     },
     "execution_count": 272,
     "metadata": {},
     "output_type": "execute_result"
    },
    {
     "data": {
      "text/plain": [
       "('R11', 0.8746543778801843, 0.0)"
      ]
     },
     "execution_count": 272,
     "metadata": {},
     "output_type": "execute_result"
    },
    {
     "data": {
      "text/plain": [
       "('R12', 1.0, 0.0)"
      ]
     },
     "execution_count": 272,
     "metadata": {},
     "output_type": "execute_result"
    },
    {
     "data": {
      "text/plain": [
       "('R13', 2.0, 0.0)"
      ]
     },
     "execution_count": 272,
     "metadata": {},
     "output_type": "execute_result"
    },
    {
     "data": {
      "text/plain": [
       "('R14', 2.0, 0.0)"
      ]
     },
     "execution_count": 272,
     "metadata": {},
     "output_type": "execute_result"
    },
    {
     "data": {
      "text/plain": [
       "('R15', 2.0, 0.0)"
      ]
     },
     "execution_count": 272,
     "metadata": {},
     "output_type": "execute_result"
    },
    {
     "data": {
      "text/plain": [
       "('R16', 1.349615975422427, 0.0)"
      ]
     },
     "execution_count": 272,
     "metadata": {},
     "output_type": "execute_result"
    },
    {
     "data": {
      "text/plain": [
       "('R17', 0.6503840245775729, 0.0)"
      ]
     },
     "execution_count": 272,
     "metadata": {},
     "output_type": "execute_result"
    },
    {
     "data": {
      "text/plain": [
       "('R18', 1.0, 0.0)"
      ]
     },
     "execution_count": 272,
     "metadata": {},
     "output_type": "execute_result"
    },
    {
     "data": {
      "text/plain": [
       "('R19', 2.0, 0.0)"
      ]
     },
     "execution_count": 272,
     "metadata": {},
     "output_type": "execute_result"
    },
    {
     "data": {
      "text/plain": [
       "('R20', 2.0, 0.0)"
      ]
     },
     "execution_count": 272,
     "metadata": {},
     "output_type": "execute_result"
    },
    {
     "data": {
      "text/plain": [
       "('R21', 2.0, 0.0)"
      ]
     },
     "execution_count": 272,
     "metadata": {},
     "output_type": "execute_result"
    },
    {
     "data": {
      "text/plain": [
       "('R22', 1.529032258064516, 0.0)"
      ]
     },
     "execution_count": 272,
     "metadata": {},
     "output_type": "execute_result"
    },
    {
     "data": {
      "text/plain": [
       "('R23', 0.47096774193548396, 0.0)"
      ]
     },
     "execution_count": 272,
     "metadata": {},
     "output_type": "execute_result"
    },
    {
     "data": {
      "text/plain": [
       "('R24', 0.0, 0.0)"
      ]
     },
     "execution_count": 272,
     "metadata": {},
     "output_type": "execute_result"
    },
    {
     "data": {
      "text/plain": [
       "('R25', 0.0, 0.0)"
      ]
     },
     "execution_count": 272,
     "metadata": {},
     "output_type": "execute_result"
    },
    {
     "data": {
      "text/plain": [
       "('R26', 0.0, 0.0)"
      ]
     },
     "execution_count": 272,
     "metadata": {},
     "output_type": "execute_result"
    },
    {
     "data": {
      "text/plain": [
       "('R27', 0.0, 0.0)"
      ]
     },
     "execution_count": 272,
     "metadata": {},
     "output_type": "execute_result"
    },
    {
     "data": {
      "text/plain": [
       "('R28', 0.0, 0.0)"
      ]
     },
     "execution_count": 272,
     "metadata": {},
     "output_type": "execute_result"
    },
    {
     "data": {
      "text/plain": [
       "('R29', 0.0, 0.0)"
      ]
     },
     "execution_count": 272,
     "metadata": {},
     "output_type": "execute_result"
    },
    {
     "data": {
      "text/plain": [
       "('R30', 0.0, 0.0)"
      ]
     },
     "execution_count": 272,
     "metadata": {},
     "output_type": "execute_result"
    },
    {
     "data": {
      "text/plain": [
       "('R31', 0.0, 1.0)"
      ]
     },
     "execution_count": 272,
     "metadata": {},
     "output_type": "execute_result"
    },
    {
     "data": {
      "text/plain": [
       "('R32', 0.0, 0.0)"
      ]
     },
     "execution_count": 272,
     "metadata": {},
     "output_type": "execute_result"
    },
    {
     "data": {
      "text/plain": [
       "('R33', 0.0, 0.0)"
      ]
     },
     "execution_count": 272,
     "metadata": {},
     "output_type": "execute_result"
    },
    {
     "data": {
      "text/plain": [
       "('R34', 0.0, 1.0)"
      ]
     },
     "execution_count": 272,
     "metadata": {},
     "output_type": "execute_result"
    },
    {
     "data": {
      "text/plain": [
       "('R35', 3.637978807091713e-12, 0.0)"
      ]
     },
     "execution_count": 272,
     "metadata": {},
     "output_type": "execute_result"
    },
    {
     "data": {
      "text/plain": [
       "('R36', 5.551115123125783e-17, 0.0)"
      ]
     },
     "execution_count": 272,
     "metadata": {},
     "output_type": "execute_result"
    },
    {
     "data": {
      "text/plain": [
       "('R37', 0.0, 1.0)"
      ]
     },
     "execution_count": 272,
     "metadata": {},
     "output_type": "execute_result"
    },
    {
     "data": {
      "text/plain": [
       "('R38', -2.0, 1.0)"
      ]
     },
     "execution_count": 272,
     "metadata": {},
     "output_type": "execute_result"
    },
    {
     "data": {
      "text/plain": [
       "('R39', 2.0, 6.0)"
      ]
     },
     "execution_count": 272,
     "metadata": {},
     "output_type": "execute_result"
    }
   ],
   "source": [
    "for i in m.getConstrs(): #print constraint name, slack, RHS\n",
    "    i.ConstrName, i.Slack, i.RHS"
   ]
  },
  {
   "cell_type": "code",
   "execution_count": 273,
   "metadata": {},
   "outputs": [],
   "source": [
    "#upper bound via LP optimization\n",
    "\n",
    "r = m.relax()"
   ]
  },
  {
   "cell_type": "code",
   "execution_count": 274,
   "metadata": {},
   "outputs": [
    {
     "name": "stdout",
     "output_type": "stream",
     "text": [
      "Gurobi Optimizer version 9.1.0 build v9.1.0rc0 (linux64)\n",
      "Thread count: 6 physical cores, 12 logical processors, using up to 12 threads\n",
      "Optimize a model with 40 rows, 49 columns and 135 nonzeros\n",
      "Model fingerprint: 0xdda316d6\n",
      "Model has 9 quadratic objective terms\n",
      "Coefficient statistics:\n",
      "  Matrix range     [1e-01, 1e+06]\n",
      "  Objective range  [2e+02, 8e+04]\n",
      "  QObjective range [4e+01, 6e+02]\n",
      "  Bounds range     [1e+00, 1e+00]\n",
      "  RHS range        [1e+00, 1e+08]\n",
      "Presolve removed 25 rows and 20 columns\n",
      "\n",
      "Continuous model is non-convex -- solving as a MIP.\n",
      "\n",
      "Presolve removed 29 rows and 23 columns\n",
      "Presolve time: 0.00s\n",
      "Presolved: 30 rows, 36 columns, 110 nonzeros\n",
      "Presolved model has 9 bilinear constraint(s)\n",
      "Variable types: 36 continuous, 0 integer (0 binary)\n",
      "\n",
      "Root relaxation: objective 3.765570e+07, 25 iterations, 0.00 seconds\n",
      "\n",
      "    Nodes    |    Current Node    |     Objective Bounds      |     Work\n",
      " Expl Unexpl |  Obj  Depth IntInf | Incumbent    BestBd   Gap | It/Node Time\n",
      "\n",
      "     0     0 3.7656e+07    0    9          - 3.7656e+07      -     -    0s\n",
      "H    0     0                    2.329066e+07 3.7656e+07  61.7%     -    0s\n",
      "     0     0 3.0710e+07    0    9 2.3291e+07 3.0710e+07  31.9%     -    0s\n",
      "H    0     0                    2.641689e+07 3.0710e+07  16.2%     -    0s\n",
      "H    0     0                    2.657735e+07 3.0710e+07  15.5%     -    0s\n",
      "     0     0 3.0704e+07    0    9 2.6577e+07 3.0704e+07  15.5%     -    0s\n",
      "H    0     0                    2.662871e+07 3.0704e+07  15.3%     -    0s\n",
      "H    0     0                    2.703266e+07 3.0704e+07  13.6%     -    0s\n",
      "     0     2 3.0704e+07    0    9 2.7033e+07 3.0704e+07  13.6%     -    0s\n",
      "*  255    68              24    2.703322e+07 2.8040e+07  3.72%   2.9    0s\n",
      "*  258    68              26    2.703368e+07 2.8040e+07  3.72%   2.8    0s\n",
      "*  300    76              28    2.703376e+07 2.8040e+07  3.72%   2.8    0s\n",
      "*  337    76              18    2.704266e+07 2.8040e+07  3.69%   2.7    0s\n",
      "*  342    76              22    2.704270e+07 2.8040e+07  3.69%   2.7    0s\n",
      "*  403    88              22    2.704270e+07 2.7699e+07  2.43%   2.6    0s\n",
      "*  467   112              36    2.705482e+07 2.7681e+07  2.31%   2.5    0s\n",
      "*  468   112              36    2.705554e+07 2.7681e+07  2.31%   2.5    0s\n",
      "*  543   136              25    2.706201e+07 2.7681e+07  2.29%   2.5    0s\n",
      "*  644   152              29    2.706437e+07 2.7681e+07  2.28%   2.9    0s\n",
      "*  790   188              45    2.706447e+07 2.7467e+07  1.49%   2.9    0s\n",
      "*  886   282              24    2.708026e+07 2.7467e+07  1.43%   2.8    0s\n",
      "* 1073   350              39    2.708674e+07 2.7467e+07  1.41%   2.7    0s\n",
      "* 1190   350              25    2.709039e+07 2.7467e+07  1.39%   2.6    0s\n",
      "* 1193   350              27    2.709081e+07 2.7467e+07  1.39%   2.6    0s\n",
      "* 1244   350              23    2.709085e+07 2.7467e+07  1.39%   2.6    0s\n",
      "* 1249   350              26    2.709086e+07 2.7467e+07  1.39%   2.6    0s\n",
      "* 1483   332              29    2.709086e+07 2.7316e+07  0.83%   2.8    0s\n",
      "* 1661   349              42    2.709129e+07 2.7258e+07  0.61%   2.8    0s\n",
      "* 1877   293              37    2.709130e+07 2.7184e+07  0.34%   3.0    0s\n",
      "* 1879   293              38    2.709130e+07 2.7184e+07  0.34%   3.0    0s\n",
      "* 2226   345              39    2.709130e+07 2.7151e+07  0.22%   3.3    0s\n",
      "* 2290   345              29    2.709136e+07 2.7133e+07  0.15%   3.2    0s\n",
      "* 2309   345              39    2.709137e+07 2.7133e+07  0.15%   3.2    0s\n",
      "* 2358   345              22    2.709139e+07 2.7133e+07  0.15%   3.2    0s\n",
      "* 2680   351              28    2.709142e+07 2.7125e+07  0.12%   3.2    0s\n",
      "* 2867   351              38    2.709143e+07 2.7116e+07  0.09%   3.1    0s\n",
      "* 3081   351              42    2.709143e+07 2.7112e+07  0.08%   2.9    0s\n",
      "* 3102   351              30    2.709143e+07 2.7094e+07  0.01%   2.9    0s\n",
      "* 3133   351              27    2.709146e+07 2.7094e+07  0.01%   2.9    0s\n",
      "\n",
      "Cutting planes:\n",
      "  RLT: 9\n",
      "\n",
      "Explored 3171 nodes (9212 simplex iterations) in 0.12 seconds\n",
      "Thread count was 12 (of 12 available processors)\n",
      "\n",
      "Solution count 10: 2.70915e+07 2.70914e+07 2.70914e+07 ... 2.70913e+07\n",
      "\n",
      "Optimal solution found (tolerance 1.00e-04)\n",
      "Best objective 2.709146027951e+07, best bound 2.709367843762e+07, gap 0.0082%\n"
     ]
    }
   ],
   "source": [
    "r.update()\n",
    "r.optimize()"
   ]
  },
  {
   "cell_type": "code",
   "execution_count": 275,
   "metadata": {},
   "outputs": [
    {
     "data": {
      "text/plain": [
       "0.9802054697092724"
      ]
     },
     "execution_count": 275,
     "metadata": {},
     "output_type": "execute_result"
    }
   ],
   "source": [
    "m.ObjVal / r.ObjVal ## note the LP relaxation is a poor indicator of the upper bound, suggest using Bender's Decomposition for problem structure "
   ]
  },
  {
   "cell_type": "code",
   "execution_count": 276,
   "metadata": {},
   "outputs": [
    {
     "name": "stdout",
     "output_type": "stream",
     "text": [
      "Max NOI: $26,555,198 \n",
      "\n",
      "single:  78.0\n",
      "double:  58.0\n",
      "suite:  42.0\n",
      "Restaurants:  3.0\n",
      "Meeing Rooms:  4.0\n"
     ]
    }
   ],
   "source": [
    "##final optimal hotel to build:\n",
    "\n",
    "#max NOI\n",
    "print(\"Max NOI: ${:,d} \\n\".format(int(round(m.ObjVal,0))))\n",
    "\n",
    "#build reqs\n",
    "print(\"single: \", qbsingle.X)\n",
    "print(\"double: \", qbdouble.X)\n",
    "print(\"suite: \", qbsuite.X)\n",
    "print(\"Restaurants: \", qbrest.X)\n",
    "print(\"Meeing Rooms: \", qbmtg.X)"
   ]
  },
  {
   "cell_type": "code",
   "execution_count": 277,
   "metadata": {},
   "outputs": [
    {
     "name": "stdout",
     "output_type": "stream",
     "text": [
      "[[ EXECUTION COMPLETE ]]\n"
     ]
    }
   ],
   "source": [
    "print (\"[[ EXECUTION COMPLETE ]]\")"
   ]
  }
 ],
 "metadata": {
  "kernelspec": {
   "display_name": "Python 3",
   "language": "python",
   "name": "python3"
  },
  "language_info": {
   "codemirror_mode": {
    "name": "ipython",
    "version": 3
   },
   "file_extension": ".py",
   "mimetype": "text/x-python",
   "name": "python",
   "nbconvert_exporter": "python",
   "pygments_lexer": "ipython3",
   "version": "3.8.5"
  }
 },
 "nbformat": 4,
 "nbformat_minor": 4
}
